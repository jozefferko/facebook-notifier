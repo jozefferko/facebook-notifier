{
 "cells": [
  {
   "cell_type": "markdown",
   "metadata": {},
   "source": [
    "# Facebook-notify: get emailed new facebook group posts immmediatelly \n",
    "\n",
    "\n",
    "### Step 1: Configure"
   ]
  },
  {
   "cell_type": "code",
   "execution_count": 1,
   "metadata": {},
   "outputs": [],
   "source": [
    "facebook_username = ''\n",
    "facebook_password = ''\n",
    "facebook_group_id = ''\n",
    "gmail_username = ''\n",
    "gmail_password = ''\n",
    "gmail_reciever = ''\n",
    "refresh_frequency = 10 #in minutes, if its too low, you'll get banned"
   ]
  },
  {
   "cell_type": "markdown",
   "metadata": {},
   "source": [
    "### Step 2: define"
   ]
  },
  {
   "cell_type": "code",
   "execution_count": 2,
   "metadata": {},
   "outputs": [],
   "source": [
    "#imports\n",
    "from selenium import webdriver\n",
    "from selenium.webdriver.common.keys import Keys\n",
    "from selenium.webdriver.common.action_chains import ActionChains\n",
    "from selenium.webdriver.support import expected_conditions as EC\n",
    "from selenium.webdriver.common.by import By\n",
    "from selenium.webdriver.support.wait import WebDriverWait\n",
    "from pyvirtualdisplay import Display\n",
    "from PIL import Image\n",
    "import time\n",
    "import smtplib\n",
    "from io import BytesIO\n",
    "from email.mime.multipart import MIMEMultipart\n",
    "from email.mime.text import MIMEText\n",
    "from email.mime.image import MIMEImage"
   ]
  },
  {
   "cell_type": "code",
   "execution_count": 3,
   "metadata": {},
   "outputs": [],
   "source": [
    "#helper function to display the current state of the browser\n",
    "def screenshot_browser():\n",
    "    png = driver.get_screenshot_as_png()\n",
    "    return Image.open(BytesIO(png)) \n",
    "\n",
    "#allows creating a browser window in a headless environment\n",
    "def create_virtual_display():\n",
    "    display = Display(visible=0, size=(1080, 1920))\n",
    "    display.start()\n",
    "\n",
    "def init_browser():\n",
    "    # configure browser to disable notification popups\n",
    "    chrome_options = webdriver.ChromeOptions()\n",
    "    prefs = {\"profile.default_content_setting_values.notifications\" : 2}\n",
    "    chrome_options.add_experimental_option(\"prefs\",prefs)\n",
    "    chrome_options.add_argument('--no-sandbox')\n",
    "    chrome_options.add_argument('--disable-dev-shm-usage')\n",
    "    global driver\n",
    "    #initialize browser window\n",
    "    driver = webdriver.Chrome(executable_path = '/usr/lib/chromium-browser/chromedriver',chrome_options = chrome_options)\n",
    "        \n",
    "def emailImage(subject, image, link = ''):\n",
    "    msg = MIMEMultipart('alternative')\n",
    "    msg['Subject'] = subject\n",
    "    msg['From'] = gmail_username\n",
    "    msg['To'] = gmail_reciever\n",
    "    \n",
    "    text = MIMEText('<a href=\"{}\"><img src=\"cid:image1\"></a>'.format(link), 'html')\n",
    "    msg.attach(text)\n",
    "\n",
    "    image = MIMEImage(image)\n",
    "\n",
    "    # Define the image's ID as referenced in the HTML body above\n",
    "    image.add_header('Content-ID', '<image1>')\n",
    "    msg.attach(image)\n",
    "\n",
    "    try:\n",
    "        smtp_server = smtplib.SMTP_SSL('smtp.gmail.com', 465)\n",
    "        smtp_server.ehlo()\n",
    "        smtp_server.login(gmail_username, gmail_password)\n",
    "        smtp_server.sendmail(gmail_username, [gmail_reciever],  msg.as_string())\n",
    "        smtp_server.close()\n",
    "        print (\"Email sent successfully!\")\n",
    "    except Exception as ex:\n",
    "        print (\"Email not sent\",ex)\n",
    "            \n",
    "def facebook_login():\n",
    "    #navigate to facebook.com\n",
    "    driver.get(\"http://www.facebook.com\")\n",
    "\n",
    "    #accept cookies\n",
    "    WebDriverWait(driver, 10).until(EC.element_to_be_clickable((By.XPATH,'//*[@data-testid=\"cookie-policy-dialog-accept-button\"]'))).click()\n",
    "\n",
    "    #get username & password fields\n",
    "    username_field = WebDriverWait(driver, 10).until(EC.element_to_be_clickable((By.CSS_SELECTOR, \"input[name='email']\")))\n",
    "    password_field = WebDriverWait(driver, 10).until(EC.element_to_be_clickable((By.CSS_SELECTOR, \"input[name='pass']\")))\n",
    "\n",
    "    #enter username and password\n",
    "    username_field.clear()\n",
    "    username_field.send_keys(facebook_username)\n",
    "    password_field.clear()\n",
    "    password_field.send_keys(facebook_password)\n",
    "\n",
    "    #target the login button and click it\n",
    "    button = WebDriverWait(driver, 2).until(EC.element_to_be_clickable((By.CSS_SELECTOR, \"button[type='submit']\"))).click()\n",
    "    #wait a bit for good meassure\n",
    "    time.sleep(10)\n",
    "\n",
    "def update_previous_name(name):\n",
    "    global previous_name\n",
    "    previous_name = name\n",
    "    f = open(\"previous_name.txt\", \"w\")\n",
    "    f.write(name)\n",
    "    f.close()\n",
    "    \n",
    "def load_previous_name():\n",
    "    global previous_name\n",
    "    try:\n",
    "        f = open(\"previous_name.txt\", \"r\")\n",
    "        previous_name = f.read()\n",
    "        f.close()\n",
    "    except:\n",
    "        previous_name = ''\n",
    "    \n",
    "def email_new_post():\n",
    "    driver.get(\"http://www.facebook.com/groups/{}/?sorting_setting=CHRONOLOGICAL\".format(facebook_group_id))\n",
    "    WebDriverWait(driver, 10).until(\n",
    "        EC.presence_of_element_located((By.XPATH, \"//div[@role='feed']/div[2]//strong[1]/span\"))\n",
    "    )\n",
    "    \n",
    "    global previous_name\n",
    "    current_name = driver.find_element(By.XPATH, \"//div[@role='feed']/div[2]//strong[1]/span\").text\n",
    "    if previous_name == current_name: return\n",
    "    print('new post from ' + current_name, end = \". \")\n",
    "    \n",
    "    link_element = driver.find_elements(By.XPATH,\"//div[@role='feed']/div[2]//a\")[3]\n",
    "    ActionChains(driver).move_to_element(link_element).perform()\n",
    "    link = link_element.get_attribute('href')\n",
    "    \n",
    "    listing_image = driver.find_element(By.XPATH, \"//div[@role='feed']/div[2]\").screenshot_as_png    \n",
    "    \n",
    "    emailImage(\"NEW LISTING\", listing_image, link)\n",
    "    \n",
    "    update_previous_name(current_name)\n",
    "    \n",
    "    \n",
    "def run_loop():\n",
    "    while True:\n",
    "        try:\n",
    "            email_new_post()\n",
    "        except Exception as ex:\n",
    "            print (\"Something went wrong….\",ex)\n",
    "        time.sleep(refresh_frequency*60)"
   ]
  },
  {
   "cell_type": "markdown",
   "metadata": {},
   "source": [
    "### Step 3: run"
   ]
  },
  {
   "cell_type": "code",
   "execution_count": 4,
   "metadata": {},
   "outputs": [
    {
     "name": "stderr",
     "output_type": "stream",
     "text": [
      "/tmp/ipykernel_26433/1682249705.py:20: DeprecationWarning: executable_path has been deprecated, please pass in a Service object\n",
      "  driver = webdriver.Chrome(executable_path = '/usr/lib/chromium-browser/chromedriver',chrome_options = chrome_options)\n",
      "/tmp/ipykernel_26433/1682249705.py:20: DeprecationWarning: use options instead of chrome_options\n",
      "  driver = webdriver.Chrome(executable_path = '/usr/lib/chromium-browser/chromedriver',chrome_options = chrome_options)\n"
     ]
    }
   ],
   "source": [
    "# execute setup steps\n",
    "create_virtual_display()\n",
    "init_browser()\n",
    "facebook_login()\n",
    "load_previous_name()"
   ]
  },
  {
   "cell_type": "code",
   "execution_count": null,
   "metadata": {},
   "outputs": [
    {
     "name": "stdout",
     "output_type": "stream",
     "text": [
      "new post from Andreas Anker Seelhorst Rasmussen. Email sent successfully!\n"
     ]
    }
   ],
   "source": [
    "#run infinite loop\n",
    "run_loop()"
   ]
  },
  {
   "cell_type": "code",
   "execution_count": null,
   "metadata": {},
   "outputs": [],
   "source": [
    "screenshot_browser()"
   ]
  },
  {
   "cell_type": "code",
   "execution_count": null,
   "metadata": {},
   "outputs": [],
   "source": []
  }
 ],
 "metadata": {
  "kernelspec": {
   "display_name": "Python 3 (ipykernel)",
   "language": "python",
   "name": "python3"
  },
  "language_info": {
   "codemirror_mode": {
    "name": "ipython",
    "version": 3
   },
   "file_extension": ".py",
   "mimetype": "text/x-python",
   "name": "python",
   "nbconvert_exporter": "python",
   "pygments_lexer": "ipython3",
   "version": "3.9.2"
  }
 },
 "nbformat": 4,
 "nbformat_minor": 4
}
